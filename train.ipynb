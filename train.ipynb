{
 "cells": [
  {
   "cell_type": "markdown",
   "id": "f3e9546a",
   "metadata": {},
   "source": [
    "### install requirements"
   ]
  },
  {
   "cell_type": "code",
   "execution_count": null,
   "id": "a1047786",
   "metadata": {},
   "outputs": [],
   "source": [
    "# !pip3 install torch torchvision torchaudio\n",
    "\n",
    "# !pip install ultralytics\n",
    "\n",
    "\n",
    "\n",
    "\n"
   ]
  },
  {
   "cell_type": "markdown",
   "id": "aaa0f166",
   "metadata": {},
   "source": [
    "#### load & test model"
   ]
  },
  {
   "cell_type": "code",
   "execution_count": null,
   "id": "c980f6ea",
   "metadata": {},
   "outputs": [],
   "source": [
    "from ultralytics import YOLO\n",
    "model = YOLO(\"yolo11n.pt\")\n"
   ]
  },
  {
   "cell_type": "code",
   "execution_count": null,
   "id": "4374a62f",
   "metadata": {},
   "outputs": [],
   "source": [
    "# test model on image\n",
    "img = \"media/sample.jpg\"\n",
    "results = model(source=img, save=True)\n"
   ]
  },
  {
   "cell_type": "code",
   "execution_count": null,
   "id": "23ff100f",
   "metadata": {},
   "outputs": [],
   "source": [
    "#test real time detection on video\n",
    "video = 'media/sample.mp4'\n",
    "results = model.track(source=video, show=True)"
   ]
  },
  {
   "cell_type": "markdown",
   "id": "5be42c9a",
   "metadata": {},
   "source": [
    "Augmentation"
   ]
  },
  {
   "cell_type": "code",
   "execution_count": null,
   "id": "00b5e42a",
   "metadata": {},
   "outputs": [],
   "source": [
    "# !pip install albumentations==1.* \n",
    "\n",
    "import os, cv2, glob, shutil\n",
    "import albumentations as A\n",
    "\n",
    "# paths\n",
    "IMG_DIR = \"data/images/train\"\n",
    "LBL_DIR = \"data/labels/train\"\n",
    "OUT_IMG_DIR = \"data/images/train_augmented\"\n",
    "OUT_LBL_DIR = \"data/labels/train_augmented\"\n",
    "\n",
    "os.makedirs(OUT_IMG_DIR, exist_ok=True)\n",
    "os.makedirs(OUT_LBL_DIR, exist_ok=True)\n",
    "\n",
    "transform = A.Compose([\n",
    "    A.RandomBrightnessContrast(p=0.7),\n",
    "    A.RandomGamma(p=0.5),\n",
    "    A.RandomShadow(p=0.4),\n",
    "    A.MotionBlur(p=0.3),\n",
    "])\n",
    "\n",
    "image_paths = sorted([p for p in glob.glob(os.path.join(IMG_DIR, \"*\"))\n",
    "                      if os.path.splitext(p)[1].lower() in [\".jpg\", \".jpeg\", \".png\"]])\n",
    "\n",
    "aug_count = 0\n",
    "for img_path in image_paths:\n",
    "    fname = os.path.basename(img_path)\n",
    "    lbl_path = os.path.join(LBL_DIR, os.path.splitext(fname)[0] + \".txt\")\n",
    "    if not os.path.exists(lbl_path):\n",
    "        continue\n",
    "\n",
    "    img = cv2.imread(img_path)\n",
    "    if img is None:\n",
    "        continue\n",
    "\n",
    "    aug_img = transform(image=img)[\"image\"]\n",
    "\n",
    "    out_img_name = f\"aug_{fname}\"\n",
    "    out_lbl_name = f\"aug_{os.path.splitext(fname)[0]}.txt\"\n",
    "\n",
    "    cv2.imwrite(os.path.join(OUT_IMG_DIR, out_img_name), aug_img)\n",
    "\n",
    "    shutil.copy2(lbl_path, os.path.join(OUT_LBL_DIR, out_lbl_name))\n",
    "\n",
    "    aug_count += 1\n",
    "\n",
    "print(f\"Augmented samples saved: {aug_count}\")\n"
   ]
  },
  {
   "cell_type": "markdown",
   "id": "8542df92",
   "metadata": {},
   "source": [
    "#### train custome model for drawsiness detection"
   ]
  },
  {
   "cell_type": "code",
   "execution_count": null,
   "id": "3861bb33",
   "metadata": {},
   "outputs": [],
   "source": [
    "from ultralytics import YOLO\n",
    "\n",
    "model = YOLO(\"yolo11n.pt\")  \n",
    "\n",
    "#train model with dataset\n",
    "model.train(data=\"dataset.yaml\", epochs=50, imgsz=640, batch=16)\n"
   ]
  },
  {
   "cell_type": "code",
   "execution_count": null,
   "id": "86ca2a6b",
   "metadata": {},
   "outputs": [],
   "source": [
    "# Evaluation on test set\n",
    "from ultralytics import YOLO\n",
    "\n",
    "model = YOLO(\"runs/detect/train/weights/best.pt\")  \n",
    "\n",
    "metrics = model.val(\n",
    "    data=\"dataset.yaml\",\n",
    "    split=\"test\"\n",
    ")\n",
    "\n",
    "print(metrics)  \n"
   ]
  },
  {
   "cell_type": "code",
   "execution_count": null,
   "id": "dab94ca8",
   "metadata": {},
   "outputs": [],
   "source": [
    "#test trained model on video\n",
    "\n",
    "from ultralytics import YOLO\n",
    "\n",
    "#path to your best.pt (trained model output)\n",
    "model = YOLO(\"runs/detect/train/weights/best.pt\")\n",
    "\n",
    "\n",
    "model.predict(\n",
    "    source=\"sample.mp4\",       #path to sample video\n",
    "    save=True,                      \n",
    "    conf=0.3,                       \n",
    "    show=False,       \n",
    "    project=\"video_output\",      #save folder path                      \n",
    "    name=\".\",      \n",
    "    exist_ok=True                  \n",
    ")"
   ]
  },
  {
   "cell_type": "code",
   "execution_count": null,
   "id": "72808926",
   "metadata": {},
   "outputs": [],
   "source": [
    "#filter drowsiness detection with consecutive-frame confirmation\n",
    "#(only for video) \n",
    "import cv2\n",
    "from ultralytics import YOLO\n",
    "\n",
    "model = YOLO(\"drowsiness_detection.pt\")\n",
    "cap = cv2.VideoCapture(\"sample.mp4\")\n",
    "\n",
    "frame_width = int(cap.get(cv2.CAP_PROP_FRAME_WIDTH))\n",
    "frame_height = int(cap.get(cv2.CAP_PROP_FRAME_HEIGHT))\n",
    "fps = cap.get(cv2.CAP_PROP_FPS)\n",
    "\n",
    "out = cv2.VideoWriter(\"drowsy_filtered_output.mp4\", cv2.VideoWriter_fourcc(*'mp4v'), fps, (frame_width, frame_height))\n",
    "\n",
    "drowsy_counter = 0\n",
    "drowsy_threshold = 15\n",
    "\n",
    "while True:\n",
    "    ret, frame = cap.read()\n",
    "    if not ret:\n",
    "        break\n",
    "\n",
    "    results = model.predict(source=frame, conf=0.4, verbose=False)\n",
    "    boxes = results[0].boxes\n",
    "    names = model.names\n",
    "\n",
    "    classes = boxes.cls.cpu().numpy()\n",
    "    drowsy_detected = any(names[int(cls)] == \"drowsy\" for cls in classes)\n",
    "\n",
    "    if drowsy_detected:\n",
    "        drowsy_counter += 1\n",
    "    else:\n",
    "        drowsy_counter = 0\n",
    "\n",
    "    if drowsy_counter >= drowsy_threshold:\n",
    "        annotated = results[0].plot()\n",
    "        cv2.putText(annotated, \"DROWSINESS ALERT!\", (100, 100), cv2.FONT_HERSHEY_SIMPLEX, 1.0, (0, 0, 255), 2)\n",
    "        out.write(annotated)\n",
    "    else:\n",
    "        out.write(frame)  \n",
    "\n",
    "cap.release()\n",
    "out.release()\n"
   ]
  }
 ],
 "metadata": {
  "kernelspec": {
   "display_name": "Python (p4jupyter)",
   "language": "python",
   "name": "p4jupyter"
  },
  "language_info": {
   "codemirror_mode": {
    "name": "ipython",
    "version": 3
   },
   "file_extension": ".py",
   "mimetype": "text/x-python",
   "name": "python",
   "nbconvert_exporter": "python",
   "pygments_lexer": "ipython3",
   "version": "3.13.2"
  }
 },
 "nbformat": 4,
 "nbformat_minor": 5
}
